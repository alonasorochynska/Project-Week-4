{
 "cells": [
  {
   "cell_type": "code",
   "execution_count": 1,
   "metadata": {},
   "outputs": [],
   "source": [
    "import numpy as np\n",
    "import pandas as pd\n",
    "import matplotlib\n",
    "import matplotlib.pyplot as plt\n",
    "import seaborn as sns"
   ]
  },
  {
   "cell_type": "code",
   "execution_count": 2,
   "metadata": {},
   "outputs": [
    {
     "data": {
      "text/html": [
       "<div>\n",
       "<style scoped>\n",
       "    .dataframe tbody tr th:only-of-type {\n",
       "        vertical-align: middle;\n",
       "    }\n",
       "\n",
       "    .dataframe tbody tr th {\n",
       "        vertical-align: top;\n",
       "    }\n",
       "\n",
       "    .dataframe thead th {\n",
       "        text-align: right;\n",
       "    }\n",
       "</style>\n",
       "<table border=\"1\" class=\"dataframe\">\n",
       "  <thead>\n",
       "    <tr style=\"text-align: right;\">\n",
       "      <th></th>\n",
       "      <th>STATE/UT</th>\n",
       "      <th>DISTRICT</th>\n",
       "      <th>Year</th>\n",
       "      <th>Murder</th>\n",
       "      <th>Assault on women</th>\n",
       "      <th>Kidnapping and Abduction</th>\n",
       "      <th>Dacoity</th>\n",
       "      <th>Robbery</th>\n",
       "      <th>Arson</th>\n",
       "      <th>Hurt</th>\n",
       "      <th>Prevention of atrocities (POA) Act</th>\n",
       "      <th>Protection of Civil Rights (PCR) Act</th>\n",
       "      <th>Other Crimes Against SCs</th>\n",
       "    </tr>\n",
       "  </thead>\n",
       "  <tbody>\n",
       "    <tr>\n",
       "      <th>0</th>\n",
       "      <td>ANDHRA PRADESH</td>\n",
       "      <td>ADILABAD</td>\n",
       "      <td>2001</td>\n",
       "      <td>0</td>\n",
       "      <td>1</td>\n",
       "      <td>4</td>\n",
       "      <td>0</td>\n",
       "      <td>0</td>\n",
       "      <td>0</td>\n",
       "      <td>3</td>\n",
       "      <td>0</td>\n",
       "      <td>15</td>\n",
       "      <td>32</td>\n",
       "    </tr>\n",
       "    <tr>\n",
       "      <th>1</th>\n",
       "      <td>ANDHRA PRADESH</td>\n",
       "      <td>ANANTAPUR</td>\n",
       "      <td>2001</td>\n",
       "      <td>0</td>\n",
       "      <td>4</td>\n",
       "      <td>0</td>\n",
       "      <td>0</td>\n",
       "      <td>0</td>\n",
       "      <td>0</td>\n",
       "      <td>49</td>\n",
       "      <td>21</td>\n",
       "      <td>0</td>\n",
       "      <td>53</td>\n",
       "    </tr>\n",
       "  </tbody>\n",
       "</table>\n",
       "</div>"
      ],
      "text/plain": [
       "         STATE/UT   DISTRICT  Year  Murder  Assault on women  \\\n",
       "0  ANDHRA PRADESH   ADILABAD  2001       0                 1   \n",
       "1  ANDHRA PRADESH  ANANTAPUR  2001       0                 4   \n",
       "\n",
       "   Kidnapping and Abduction  Dacoity  Robbery  Arson  Hurt  \\\n",
       "0                         4        0        0      0     3   \n",
       "1                         0        0        0      0    49   \n",
       "\n",
       "   Prevention of atrocities (POA) Act  Protection of Civil Rights (PCR) Act  \\\n",
       "0                                   0                                    15   \n",
       "1                                  21                                     0   \n",
       "\n",
       "   Other Crimes Against SCs  \n",
       "0                        32  \n",
       "1                        53  "
      ]
     },
     "execution_count": 2,
     "metadata": {},
     "output_type": "execute_result"
    }
   ],
   "source": [
    "# Importing Crimes by districts\n",
    "crime = pd.read_csv('crime_by_district.csv')\n",
    "crime.head(2) "
   ]
  },
  {
   "cell_type": "code",
   "execution_count": 3,
   "metadata": {},
   "outputs": [
    {
     "data": {
      "text/plain": [
       "STATE/UT                                0\n",
       "DISTRICT                                0\n",
       "Year                                    0\n",
       "Murder                                  0\n",
       "Assault on women                        0\n",
       "Kidnapping and Abduction                0\n",
       "Dacoity                                 0\n",
       "Robbery                                 0\n",
       "Arson                                   0\n",
       "Hurt                                    0\n",
       "Prevention of atrocities (POA) Act      0\n",
       "Protection of Civil Rights (PCR) Act    0\n",
       "Other Crimes Against SCs                0\n",
       "dtype: int64"
      ]
     },
     "execution_count": 3,
     "metadata": {},
     "output_type": "execute_result"
    }
   ],
   "source": [
    "# Checking if there some information that is no valid. All information is OK\n",
    "crime.isnull().sum()"
   ]
  },
  {
   "cell_type": "code",
   "execution_count": 4,
   "metadata": {},
   "outputs": [
    {
     "data": {
      "text/html": [
       "<div>\n",
       "<style scoped>\n",
       "    .dataframe tbody tr th:only-of-type {\n",
       "        vertical-align: middle;\n",
       "    }\n",
       "\n",
       "    .dataframe tbody tr th {\n",
       "        vertical-align: top;\n",
       "    }\n",
       "\n",
       "    .dataframe thead th {\n",
       "        text-align: right;\n",
       "    }\n",
       "</style>\n",
       "<table border=\"1\" class=\"dataframe\">\n",
       "  <thead>\n",
       "    <tr style=\"text-align: right;\">\n",
       "      <th></th>\n",
       "      <th>state_name</th>\n",
       "      <th>is_state</th>\n",
       "      <th>year</th>\n",
       "      <th>category</th>\n",
       "      <th>type</th>\n",
       "      <th>gender</th>\n",
       "      <th>age_16_18</th>\n",
       "      <th>age_18_30</th>\n",
       "      <th>age_30_50</th>\n",
       "      <th>age_50_above</th>\n",
       "    </tr>\n",
       "  </thead>\n",
       "  <tbody>\n",
       "    <tr>\n",
       "      <th>0</th>\n",
       "      <td>A &amp; N Islands</td>\n",
       "      <td>0</td>\n",
       "      <td>2001</td>\n",
       "      <td>Foreigners</td>\n",
       "      <td>Convicts</td>\n",
       "      <td>Female</td>\n",
       "      <td>0.0</td>\n",
       "      <td>0</td>\n",
       "      <td>0</td>\n",
       "      <td>0</td>\n",
       "    </tr>\n",
       "    <tr>\n",
       "      <th>1</th>\n",
       "      <td>A &amp; N Islands</td>\n",
       "      <td>0</td>\n",
       "      <td>2001</td>\n",
       "      <td>Foreigners</td>\n",
       "      <td>Convicts</td>\n",
       "      <td>Male</td>\n",
       "      <td>0.0</td>\n",
       "      <td>12</td>\n",
       "      <td>139</td>\n",
       "      <td>2</td>\n",
       "    </tr>\n",
       "  </tbody>\n",
       "</table>\n",
       "</div>"
      ],
      "text/plain": [
       "      state_name  is_state  year    category      type  gender  age_16_18  \\\n",
       "0  A & N Islands         0  2001  Foreigners  Convicts  Female        0.0   \n",
       "1  A & N Islands         0  2001  Foreigners  Convicts    Male        0.0   \n",
       "\n",
       "   age_18_30  age_30_50  age_50_above  \n",
       "0          0          0             0  \n",
       "1         12        139             2  "
      ]
     },
     "execution_count": 4,
     "metadata": {},
     "output_type": "execute_result"
    }
   ],
   "source": [
    "# Importing prison statistics\n",
    "prison = pd.read_csv('Age_group.csv')\n",
    "prison.head(2) "
   ]
  },
  {
   "cell_type": "code",
   "execution_count": 5,
   "metadata": {},
   "outputs": [
    {
     "data": {
      "text/plain": [
       "state_name      0\n",
       "is_state        0\n",
       "year            0\n",
       "category        0\n",
       "type            0\n",
       "gender          0\n",
       "age_16_18       1\n",
       "age_18_30       0\n",
       "age_30_50       0\n",
       "age_50_above    0\n",
       "dtype: int64"
      ]
     },
     "execution_count": 5,
     "metadata": {},
     "output_type": "execute_result"
    }
   ],
   "source": [
    "# Checking if there some information that is no valid. \n",
    "# All information is OK except only 1 in all table. So I'm not going to do nothing with it\n",
    "prison.isnull().sum()"
   ]
  },
  {
   "cell_type": "code",
   "execution_count": 6,
   "metadata": {},
   "outputs": [
    {
     "data": {
      "text/html": [
       "<div>\n",
       "<style scoped>\n",
       "    .dataframe tbody tr th:only-of-type {\n",
       "        vertical-align: middle;\n",
       "    }\n",
       "\n",
       "    .dataframe tbody tr th {\n",
       "        vertical-align: top;\n",
       "    }\n",
       "\n",
       "    .dataframe thead th {\n",
       "        text-align: right;\n",
       "    }\n",
       "</style>\n",
       "<table border=\"1\" class=\"dataframe\">\n",
       "  <thead>\n",
       "    <tr style=\"text-align: right;\">\n",
       "      <th></th>\n",
       "      <th>Area_Name</th>\n",
       "      <th>Year</th>\n",
       "      <th>Group_Name</th>\n",
       "      <th>Sub_Group_Name</th>\n",
       "      <th>Cases_Property_Recovered</th>\n",
       "      <th>Cases_Property_Stolen</th>\n",
       "      <th>Value_of_Property_Recovered</th>\n",
       "      <th>Value_of_Property_Stolen</th>\n",
       "    </tr>\n",
       "  </thead>\n",
       "  <tbody>\n",
       "    <tr>\n",
       "      <th>0</th>\n",
       "      <td>Andaman &amp; Nicobar Islands</td>\n",
       "      <td>2001</td>\n",
       "      <td>Burglary - Property</td>\n",
       "      <td>3. Burglary</td>\n",
       "      <td>27</td>\n",
       "      <td>64</td>\n",
       "      <td>755858</td>\n",
       "      <td>1321961</td>\n",
       "    </tr>\n",
       "    <tr>\n",
       "      <th>1</th>\n",
       "      <td>Andhra Pradesh</td>\n",
       "      <td>2001</td>\n",
       "      <td>Burglary - Property</td>\n",
       "      <td>3. Burglary</td>\n",
       "      <td>3321</td>\n",
       "      <td>7134</td>\n",
       "      <td>51483437</td>\n",
       "      <td>147019348</td>\n",
       "    </tr>\n",
       "    <tr>\n",
       "      <th>2</th>\n",
       "      <td>Arunachal Pradesh</td>\n",
       "      <td>2001</td>\n",
       "      <td>Burglary - Property</td>\n",
       "      <td>3. Burglary</td>\n",
       "      <td>66</td>\n",
       "      <td>248</td>\n",
       "      <td>825115</td>\n",
       "      <td>4931904</td>\n",
       "    </tr>\n",
       "  </tbody>\n",
       "</table>\n",
       "</div>"
      ],
      "text/plain": [
       "                   Area_Name  Year           Group_Name Sub_Group_Name  \\\n",
       "0  Andaman & Nicobar Islands  2001  Burglary - Property    3. Burglary   \n",
       "1             Andhra Pradesh  2001  Burglary - Property    3. Burglary   \n",
       "2          Arunachal Pradesh  2001  Burglary - Property    3. Burglary   \n",
       "\n",
       "   Cases_Property_Recovered  Cases_Property_Stolen  \\\n",
       "0                        27                     64   \n",
       "1                      3321                   7134   \n",
       "2                        66                    248   \n",
       "\n",
       "   Value_of_Property_Recovered  Value_of_Property_Stolen  \n",
       "0                       755858                   1321961  \n",
       "1                     51483437                 147019348  \n",
       "2                       825115                   4931904  "
      ]
     },
     "execution_count": 6,
     "metadata": {},
     "output_type": "execute_result"
    }
   ],
   "source": [
    "# Importing Crimes of stolen property\n",
    "prop = pd.read_csv('10_Property_stolen_and_recovered.csv')\n",
    "prop.head(3) "
   ]
  },
  {
   "cell_type": "code",
   "execution_count": 7,
   "metadata": {},
   "outputs": [
    {
     "data": {
      "text/plain": [
       "Area_Name                      0\n",
       "Year                           0\n",
       "Group_Name                     0\n",
       "Sub_Group_Name                 0\n",
       "Cases_Property_Recovered       0\n",
       "Cases_Property_Stolen          0\n",
       "Value_of_Property_Recovered    0\n",
       "Value_of_Property_Stolen       0\n",
       "dtype: int64"
      ]
     },
     "execution_count": 7,
     "metadata": {},
     "output_type": "execute_result"
    }
   ],
   "source": [
    "# Checking if there some information that is no valid. \n",
    "# All information is OK \n",
    "prop.isnull().sum()"
   ]
  },
  {
   "cell_type": "code",
   "execution_count": 8,
   "metadata": {},
   "outputs": [
    {
     "data": {
      "text/plain": [
       "Uttar Pradesh                70\n",
       "Andaman & Nicobar Islands    70\n",
       "Dadra & Nagar Haveli         70\n",
       "Himachal Pradesh             70\n",
       "Manipur                      70\n",
       "Name: Area_Name, dtype: int64"
      ]
     },
     "execution_count": 8,
     "metadata": {},
     "output_type": "execute_result"
    }
   ],
   "source": [
    "# Checking what kind of data I have\n",
    "prop['Area_Name'].value_counts().head()"
   ]
  },
  {
   "cell_type": "code",
   "execution_count": 9,
   "metadata": {},
   "outputs": [
    {
     "data": {
      "text/plain": [
       "2009    245\n",
       "2005    245\n",
       "2003    245\n",
       "2001    245\n",
       "2010    245\n",
       "Name: Year, dtype: int64"
      ]
     },
     "execution_count": 9,
     "metadata": {},
     "output_type": "execute_result"
    }
   ],
   "source": [
    "# Checking what kind of data I have\n",
    "prop['Year'].value_counts().head()"
   ]
  },
  {
   "cell_type": "code",
   "execution_count": 10,
   "metadata": {},
   "outputs": [
    {
     "data": {
      "text/plain": [
       "Dacoity -Property                      350\n",
       "Other heads of Property                350\n",
       "Theft - Property                       350\n",
       "Burglary - Property                    350\n",
       "Criminal Breach of Trust - Property    350\n",
       "Robbery - Property                     350\n",
       "Total Property                         349\n",
       "Name: Group_Name, dtype: int64"
      ]
     },
     "execution_count": 10,
     "metadata": {},
     "output_type": "execute_result"
    }
   ],
   "source": [
    "# Checking what kind of data I have\n",
    "prop['Group_Name'].value_counts().head(8)"
   ]
  },
  {
   "cell_type": "code",
   "execution_count": 11,
   "metadata": {},
   "outputs": [
    {
     "data": {
      "text/plain": [
       "(2449, 8)"
      ]
     },
     "execution_count": 11,
     "metadata": {},
     "output_type": "execute_result"
    }
   ],
   "source": [
    "# Checking what kind of data I have\n",
    "prop.shape"
   ]
  },
  {
   "cell_type": "code",
   "execution_count": 12,
   "metadata": {},
   "outputs": [
    {
     "data": {
      "text/html": [
       "<div>\n",
       "<style scoped>\n",
       "    .dataframe tbody tr th:only-of-type {\n",
       "        vertical-align: middle;\n",
       "    }\n",
       "\n",
       "    .dataframe tbody tr th {\n",
       "        vertical-align: top;\n",
       "    }\n",
       "\n",
       "    .dataframe thead th {\n",
       "        text-align: right;\n",
       "    }\n",
       "</style>\n",
       "<table border=\"1\" class=\"dataframe\">\n",
       "  <thead>\n",
       "    <tr style=\"text-align: right;\">\n",
       "      <th></th>\n",
       "      <th>Area_Name</th>\n",
       "      <th>Cases_Property_Stolen</th>\n",
       "    </tr>\n",
       "  </thead>\n",
       "  <tbody>\n",
       "    <tr>\n",
       "      <th>20</th>\n",
       "      <td>Maharashtra</td>\n",
       "      <td>19668.771429</td>\n",
       "    </tr>\n",
       "    <tr>\n",
       "      <th>19</th>\n",
       "      <td>Madhya Pradesh</td>\n",
       "      <td>10478.914286</td>\n",
       "    </tr>\n",
       "    <tr>\n",
       "      <th>1</th>\n",
       "      <td>Andhra Pradesh</td>\n",
       "      <td>9183.171429</td>\n",
       "    </tr>\n",
       "    <tr>\n",
       "      <th>32</th>\n",
       "      <td>Uttar Pradesh</td>\n",
       "      <td>7999.571429</td>\n",
       "    </tr>\n",
       "    <tr>\n",
       "      <th>11</th>\n",
       "      <td>Gujarat</td>\n",
       "      <td>7629.428571</td>\n",
       "    </tr>\n",
       "  </tbody>\n",
       "</table>\n",
       "</div>"
      ],
      "text/plain": [
       "         Area_Name  Cases_Property_Stolen\n",
       "20     Maharashtra           19668.771429\n",
       "19  Madhya Pradesh           10478.914286\n",
       "1   Andhra Pradesh            9183.171429\n",
       "32   Uttar Pradesh            7999.571429\n",
       "11         Gujarat            7629.428571"
      ]
     },
     "execution_count": 12,
     "metadata": {},
     "output_type": "execute_result"
    }
   ],
   "source": [
    "# Counting mean number of cases of property stolen\n",
    "prop_area = prop.groupby([\"Area_Name\"]).agg({'Cases_Property_Stolen':'mean'}).reset_index()\n",
    "area_sort = prop_area.sort_values(['Cases_Property_Stolen'], ascending = False)\n",
    "area_sort.head()"
   ]
  },
  {
   "cell_type": "code",
   "execution_count": 13,
   "metadata": {},
   "outputs": [
    {
     "data": {
      "text/html": [
       "<div>\n",
       "<style scoped>\n",
       "    .dataframe tbody tr th:only-of-type {\n",
       "        vertical-align: middle;\n",
       "    }\n",
       "\n",
       "    .dataframe tbody tr th {\n",
       "        vertical-align: top;\n",
       "    }\n",
       "\n",
       "    .dataframe thead th {\n",
       "        text-align: right;\n",
       "    }\n",
       "</style>\n",
       "<table border=\"1\" class=\"dataframe\">\n",
       "  <thead>\n",
       "    <tr style=\"text-align: right;\">\n",
       "      <th></th>\n",
       "      <th>Area_Name</th>\n",
       "      <th>Cases_Property_Stolen</th>\n",
       "    </tr>\n",
       "  </thead>\n",
       "  <tbody>\n",
       "    <tr>\n",
       "      <th>20</th>\n",
       "      <td>Maharashtra</td>\n",
       "      <td>19669.0</td>\n",
       "    </tr>\n",
       "    <tr>\n",
       "      <th>19</th>\n",
       "      <td>Madhya Pradesh</td>\n",
       "      <td>10479.0</td>\n",
       "    </tr>\n",
       "    <tr>\n",
       "      <th>1</th>\n",
       "      <td>Andhra Pradesh</td>\n",
       "      <td>9183.0</td>\n",
       "    </tr>\n",
       "    <tr>\n",
       "      <th>32</th>\n",
       "      <td>Uttar Pradesh</td>\n",
       "      <td>8000.0</td>\n",
       "    </tr>\n",
       "    <tr>\n",
       "      <th>11</th>\n",
       "      <td>Gujarat</td>\n",
       "      <td>7629.0</td>\n",
       "    </tr>\n",
       "  </tbody>\n",
       "</table>\n",
       "</div>"
      ],
      "text/plain": [
       "         Area_Name  Cases_Property_Stolen\n",
       "20     Maharashtra                19669.0\n",
       "19  Madhya Pradesh                10479.0\n",
       "1   Andhra Pradesh                 9183.0\n",
       "32   Uttar Pradesh                 8000.0\n",
       "11         Gujarat                 7629.0"
      ]
     },
     "execution_count": 13,
     "metadata": {},
     "output_type": "execute_result"
    }
   ],
   "source": [
    "# drop the rows that are having less robbery then 1% from all robberies in the country (17 regions less)\n",
    "area_sort_less = area_sort.loc[area_sort['Cases_Property_Stolen'] > 1196]\n",
    "area_sort_less = area_sort_less.round(0)\n",
    "area_sort_less.head()"
   ]
  },
  {
   "cell_type": "code",
   "execution_count": 14,
   "metadata": {},
   "outputs": [
    {
     "data": {
      "text/plain": [
       "(35, 2)"
      ]
     },
     "execution_count": 14,
     "metadata": {},
     "output_type": "execute_result"
    }
   ],
   "source": [
    "# The size of table in the beggining\n",
    "area_sort.shape"
   ]
  },
  {
   "cell_type": "code",
   "execution_count": 15,
   "metadata": {},
   "outputs": [
    {
     "data": {
      "text/plain": [
       "(18, 2)"
      ]
     },
     "execution_count": 15,
     "metadata": {},
     "output_type": "execute_result"
    }
   ],
   "source": [
    "# The result after filtering 1%\n",
    "area_sort_less.shape"
   ]
  },
  {
   "cell_type": "code",
   "execution_count": 16,
   "metadata": {},
   "outputs": [
    {
     "data": {
      "text/plain": [
       "119630.95652173914"
      ]
     },
     "execution_count": 16,
     "metadata": {},
     "output_type": "execute_result"
    }
   ],
   "source": [
    "# Here I was counting sum of all cases to findout what is 1%\n",
    "area_sort['Cases_Property_Stolen'].sum()"
   ]
  },
  {
   "cell_type": "code",
   "execution_count": 17,
   "metadata": {},
   "outputs": [
    {
     "data": {
      "text/plain": [
       "<matplotlib.axes._subplots.AxesSubplot at 0x7fcb183b1f28>"
      ]
     },
     "execution_count": 17,
     "metadata": {},
     "output_type": "execute_result"
    },
    {
     "data": {
      "image/png": "[encoded data removed]",
      "text/plain": [
       "<Figure size 432x288 with 1 Axes>"
      ]
     },
     "metadata": {
      "needs_background": "light"
     },
     "output_type": "display_data"
    }
   ],
   "source": [
    "# Visualization of the data I've got\n",
    "sns.barplot(x=\"Cases_Property_Stolen\", y=\"Area_Name\", data = area_sort_less)"
   ]
  },
  {
   "cell_type": "code",
   "execution_count": 18,
   "metadata": {},
   "outputs": [
    {
     "data": {
      "text/html": [
       "<div>\n",
       "<style scoped>\n",
       "    .dataframe tbody tr th:only-of-type {\n",
       "        vertical-align: middle;\n",
       "    }\n",
       "\n",
       "    .dataframe tbody tr th {\n",
       "        vertical-align: top;\n",
       "    }\n",
       "\n",
       "    .dataframe thead th {\n",
       "        text-align: right;\n",
       "    }\n",
       "</style>\n",
       "<table border=\"1\" class=\"dataframe\">\n",
       "  <thead>\n",
       "    <tr style=\"text-align: right;\">\n",
       "      <th></th>\n",
       "      <th>Year</th>\n",
       "      <th>Cases_Property_Stolen</th>\n",
       "    </tr>\n",
       "  </thead>\n",
       "  <tbody>\n",
       "    <tr>\n",
       "      <th>0</th>\n",
       "      <td>2001</td>\n",
       "      <td>3228</td>\n",
       "    </tr>\n",
       "    <tr>\n",
       "      <th>1</th>\n",
       "      <td>2002</td>\n",
       "      <td>3160</td>\n",
       "    </tr>\n",
       "    <tr>\n",
       "      <th>2</th>\n",
       "      <td>2003</td>\n",
       "      <td>3084</td>\n",
       "    </tr>\n",
       "    <tr>\n",
       "      <th>3</th>\n",
       "      <td>2004</td>\n",
       "      <td>3316</td>\n",
       "    </tr>\n",
       "    <tr>\n",
       "      <th>4</th>\n",
       "      <td>2005</td>\n",
       "      <td>3264</td>\n",
       "    </tr>\n",
       "    <tr>\n",
       "      <th>5</th>\n",
       "      <td>2006</td>\n",
       "      <td>3320</td>\n",
       "    </tr>\n",
       "    <tr>\n",
       "      <th>6</th>\n",
       "      <td>2007</td>\n",
       "      <td>3513</td>\n",
       "    </tr>\n",
       "    <tr>\n",
       "      <th>7</th>\n",
       "      <td>2008</td>\n",
       "      <td>3726</td>\n",
       "    </tr>\n",
       "    <tr>\n",
       "      <th>8</th>\n",
       "      <td>2009</td>\n",
       "      <td>3722</td>\n",
       "    </tr>\n",
       "    <tr>\n",
       "      <th>9</th>\n",
       "      <td>2010</td>\n",
       "      <td>3862</td>\n",
       "    </tr>\n",
       "  </tbody>\n",
       "</table>\n",
       "</div>"
      ],
      "text/plain": [
       "   Year  Cases_Property_Stolen\n",
       "0  2001                   3228\n",
       "1  2002                   3160\n",
       "2  2003                   3084\n",
       "3  2004                   3316\n",
       "4  2005                   3264\n",
       "5  2006                   3320\n",
       "6  2007                   3513\n",
       "7  2008                   3726\n",
       "8  2009                   3722\n",
       "9  2010                   3862"
      ]
     },
     "execution_count": 18,
     "metadata": {},
     "output_type": "execute_result"
    }
   ],
   "source": [
    "# Checking shape of information\n",
    "prop['Year'].value_counts()\n",
    "# Calculating mean of property stolen cases\n",
    "prop_year = prop.groupby([\"Year\"]).agg({'Cases_Property_Stolen':'mean'}).reset_index()\n",
    "# Sorting values by year and by ascending for better visualization\n",
    "year_sort = prop_year.sort_values(['Year'], ascending = True)\n",
    "# Rounding floating data and transforming to inegers for to get rid of points\n",
    "year_sort = year_sort.round(0).astype('int32')\n",
    "year_sort"
   ]
  },
  {
   "cell_type": "code",
   "execution_count": 19,
   "metadata": {},
   "outputs": [
    {
     "data": {
      "text/plain": [
       "<BarContainer object of 10 artists>"
      ]
     },
     "execution_count": 19,
     "metadata": {},
     "output_type": "execute_result"
    },
    {
     "data": {
      "image/png": "[encoded data removed]",
      "text/plain": [
       "<Figure size 396x108 with 1 Axes>"
      ]
     },
     "metadata": {
      "needs_background": "light"
     },
     "output_type": "display_data"
    }
   ],
   "source": [
    "#r Creating plot of xases of property stolen by year\n",
    "fig, ax = plt.subplots(figsize=(5.5,1.5))\n",
    "ax.bar(year_sort['Year'], year_sort['Cases_Property_Stolen'])\n"
   ]
  },
  {
   "cell_type": "code",
   "execution_count": 20,
   "metadata": {},
   "outputs": [
    {
     "data": {
      "text/html": [
       "<div>\n",
       "<style scoped>\n",
       "    .dataframe tbody tr th:only-of-type {\n",
       "        vertical-align: middle;\n",
       "    }\n",
       "\n",
       "    .dataframe tbody tr th {\n",
       "        vertical-align: top;\n",
       "    }\n",
       "\n",
       "    .dataframe thead th {\n",
       "        text-align: right;\n",
       "    }\n",
       "</style>\n",
       "<table border=\"1\" class=\"dataframe\">\n",
       "  <thead>\n",
       "    <tr style=\"text-align: right;\">\n",
       "      <th></th>\n",
       "      <th>state_name</th>\n",
       "      <th>is_state</th>\n",
       "      <th>year</th>\n",
       "      <th>category</th>\n",
       "      <th>type</th>\n",
       "      <th>gender</th>\n",
       "      <th>age_16_18</th>\n",
       "      <th>age_18_30</th>\n",
       "      <th>age_30_50</th>\n",
       "      <th>age_50_above</th>\n",
       "    </tr>\n",
       "  </thead>\n",
       "  <tbody>\n",
       "    <tr>\n",
       "      <th>0</th>\n",
       "      <td>A &amp; N Islands</td>\n",
       "      <td>0</td>\n",
       "      <td>2001</td>\n",
       "      <td>Foreigners</td>\n",
       "      <td>Convicts</td>\n",
       "      <td>Female</td>\n",
       "      <td>0.0</td>\n",
       "      <td>0</td>\n",
       "      <td>0</td>\n",
       "      <td>0</td>\n",
       "    </tr>\n",
       "    <tr>\n",
       "      <th>1</th>\n",
       "      <td>A &amp; N Islands</td>\n",
       "      <td>0</td>\n",
       "      <td>2001</td>\n",
       "      <td>Foreigners</td>\n",
       "      <td>Convicts</td>\n",
       "      <td>Male</td>\n",
       "      <td>0.0</td>\n",
       "      <td>12</td>\n",
       "      <td>139</td>\n",
       "      <td>2</td>\n",
       "    </tr>\n",
       "    <tr>\n",
       "      <th>2</th>\n",
       "      <td>A &amp; N Islands</td>\n",
       "      <td>0</td>\n",
       "      <td>2001</td>\n",
       "      <td>Foreigners</td>\n",
       "      <td>Detenus</td>\n",
       "      <td>Female</td>\n",
       "      <td>0.0</td>\n",
       "      <td>0</td>\n",
       "      <td>0</td>\n",
       "      <td>0</td>\n",
       "    </tr>\n",
       "    <tr>\n",
       "      <th>3</th>\n",
       "      <td>A &amp; N Islands</td>\n",
       "      <td>0</td>\n",
       "      <td>2001</td>\n",
       "      <td>Foreigners</td>\n",
       "      <td>Detenus</td>\n",
       "      <td>Male</td>\n",
       "      <td>0.0</td>\n",
       "      <td>0</td>\n",
       "      <td>0</td>\n",
       "      <td>0</td>\n",
       "    </tr>\n",
       "    <tr>\n",
       "      <th>4</th>\n",
       "      <td>A &amp; N Islands</td>\n",
       "      <td>0</td>\n",
       "      <td>2001</td>\n",
       "      <td>Foreigners</td>\n",
       "      <td>Others</td>\n",
       "      <td>Female</td>\n",
       "      <td>0.0</td>\n",
       "      <td>0</td>\n",
       "      <td>0</td>\n",
       "      <td>0</td>\n",
       "    </tr>\n",
       "  </tbody>\n",
       "</table>\n",
       "</div>"
      ],
      "text/plain": [
       "      state_name  is_state  year    category      type  gender  age_16_18  \\\n",
       "0  A & N Islands         0  2001  Foreigners  Convicts  Female        0.0   \n",
       "1  A & N Islands         0  2001  Foreigners  Convicts    Male        0.0   \n",
       "2  A & N Islands         0  2001  Foreigners   Detenus  Female        0.0   \n",
       "3  A & N Islands         0  2001  Foreigners   Detenus    Male        0.0   \n",
       "4  A & N Islands         0  2001  Foreigners    Others  Female        0.0   \n",
       "\n",
       "   age_18_30  age_30_50  age_50_above  \n",
       "0          0          0             0  \n",
       "1         12        139             2  \n",
       "2          0          0             0  \n",
       "3          0          0             0  \n",
       "4          0          0             0  "
      ]
     },
     "execution_count": 20,
     "metadata": {},
     "output_type": "execute_result"
    }
   ],
   "source": [
    "# Reading the table\n",
    "prison.head()"
   ]
  },
  {
   "cell_type": "code",
   "execution_count": 21,
   "metadata": {},
   "outputs": [
    {
     "data": {
      "text/plain": [
       "(7152, 10)"
      ]
     },
     "execution_count": 21,
     "metadata": {},
     "output_type": "execute_result"
    }
   ],
   "source": [
    "# Watching the shape of data\n",
    "prison.shape"
   ]
  },
  {
   "cell_type": "code",
   "execution_count": 22,
   "metadata": {},
   "outputs": [
    {
     "data": {
      "text/html": [
       "<div>\n",
       "<style scoped>\n",
       "    .dataframe tbody tr th:only-of-type {\n",
       "        vertical-align: middle;\n",
       "    }\n",
       "\n",
       "    .dataframe tbody tr th {\n",
       "        vertical-align: top;\n",
       "    }\n",
       "\n",
       "    .dataframe thead th {\n",
       "        text-align: right;\n",
       "    }\n",
       "</style>\n",
       "<table border=\"1\" class=\"dataframe\">\n",
       "  <thead>\n",
       "    <tr style=\"text-align: right;\">\n",
       "      <th></th>\n",
       "      <th>gender</th>\n",
       "    </tr>\n",
       "  </thead>\n",
       "  <tbody>\n",
       "    <tr>\n",
       "      <th>Male</th>\n",
       "      <td>3576</td>\n",
       "    </tr>\n",
       "    <tr>\n",
       "      <th>Female</th>\n",
       "      <td>3576</td>\n",
       "    </tr>\n",
       "  </tbody>\n",
       "</table>\n",
       "</div>"
      ],
      "text/plain": [
       "        gender\n",
       "Male      3576\n",
       "Female    3576"
      ]
     },
     "execution_count": 22,
     "metadata": {},
     "output_type": "execute_result"
    }
   ],
   "source": [
    "# What is the distribution by genders?\n",
    "sex = pd.DataFrame(prison['gender'].value_counts())\n",
    "sex"
   ]
  },
  {
   "cell_type": "code",
   "execution_count": 23,
   "metadata": {},
   "outputs": [
    {
     "data": {
      "text/html": [
       "<div>\n",
       "<style scoped>\n",
       "    .dataframe tbody tr th:only-of-type {\n",
       "        vertical-align: middle;\n",
       "    }\n",
       "\n",
       "    .dataframe tbody tr th {\n",
       "        vertical-align: top;\n",
       "    }\n",
       "\n",
       "    .dataframe thead th {\n",
       "        text-align: right;\n",
       "    }\n",
       "</style>\n",
       "<table border=\"1\" class=\"dataframe\">\n",
       "  <thead>\n",
       "    <tr style=\"text-align: right;\">\n",
       "      <th></th>\n",
       "      <th>category</th>\n",
       "    </tr>\n",
       "  </thead>\n",
       "  <tbody>\n",
       "    <tr>\n",
       "      <th>Indians</th>\n",
       "      <td>3576</td>\n",
       "    </tr>\n",
       "    <tr>\n",
       "      <th>Foreigners</th>\n",
       "      <td>3576</td>\n",
       "    </tr>\n",
       "  </tbody>\n",
       "</table>\n",
       "</div>"
      ],
      "text/plain": [
       "            category\n",
       "Indians         3576\n",
       "Foreigners      3576"
      ]
     },
     "execution_count": 23,
     "metadata": {},
     "output_type": "execute_result"
    }
   ],
   "source": [
    "# And by indians and foreignians\n",
    "category = pd.DataFrame(prison['category'].value_counts())\n",
    "category"
   ]
  },
  {
   "cell_type": "code",
   "execution_count": 50,
   "metadata": {},
   "outputs": [
    {
     "data": {
      "text/html": [
       "<div>\n",
       "<style scoped>\n",
       "    .dataframe tbody tr th:only-of-type {\n",
       "        vertical-align: middle;\n",
       "    }\n",
       "\n",
       "    .dataframe tbody tr th {\n",
       "        vertical-align: top;\n",
       "    }\n",
       "\n",
       "    .dataframe thead th {\n",
       "        text-align: right;\n",
       "    }\n",
       "</style>\n",
       "<table border=\"1\" class=\"dataframe\">\n",
       "  <thead>\n",
       "    <tr style=\"text-align: right;\">\n",
       "      <th></th>\n",
       "      <th>year</th>\n",
       "      <th>age_16_18</th>\n",
       "      <th>age_18_30</th>\n",
       "      <th>age_30_50</th>\n",
       "      <th>age_50_above</th>\n",
       "    </tr>\n",
       "  </thead>\n",
       "  <tbody>\n",
       "    <tr>\n",
       "      <th>0</th>\n",
       "      <td>2001</td>\n",
       "      <td>5752</td>\n",
       "      <td>139747</td>\n",
       "      <td>136789</td>\n",
       "      <td>31347</td>\n",
       "    </tr>\n",
       "    <tr>\n",
       "      <th>1</th>\n",
       "      <td>2002</td>\n",
       "      <td>3877</td>\n",
       "      <td>147206</td>\n",
       "      <td>137181</td>\n",
       "      <td>34093</td>\n",
       "    </tr>\n",
       "    <tr>\n",
       "      <th>2</th>\n",
       "      <td>2003</td>\n",
       "      <td>2152</td>\n",
       "      <td>141362</td>\n",
       "      <td>146791</td>\n",
       "      <td>36214</td>\n",
       "    </tr>\n",
       "    <tr>\n",
       "      <th>3</th>\n",
       "      <td>2004</td>\n",
       "      <td>1055</td>\n",
       "      <td>141115</td>\n",
       "      <td>151803</td>\n",
       "      <td>37418</td>\n",
       "    </tr>\n",
       "    <tr>\n",
       "      <th>4</th>\n",
       "      <td>2005</td>\n",
       "      <td>1370</td>\n",
       "      <td>154557</td>\n",
       "      <td>159720</td>\n",
       "      <td>42721</td>\n",
       "    </tr>\n",
       "    <tr>\n",
       "      <th>5</th>\n",
       "      <td>2006</td>\n",
       "      <td>663</td>\n",
       "      <td>154864</td>\n",
       "      <td>171517</td>\n",
       "      <td>46227</td>\n",
       "    </tr>\n",
       "    <tr>\n",
       "      <th>6</th>\n",
       "      <td>2007</td>\n",
       "      <td>495</td>\n",
       "      <td>162729</td>\n",
       "      <td>170874</td>\n",
       "      <td>42298</td>\n",
       "    </tr>\n",
       "    <tr>\n",
       "      <th>7</th>\n",
       "      <td>2008</td>\n",
       "      <td>174</td>\n",
       "      <td>160080</td>\n",
       "      <td>177359</td>\n",
       "      <td>47140</td>\n",
       "    </tr>\n",
       "    <tr>\n",
       "      <th>8</th>\n",
       "      <td>2009</td>\n",
       "      <td>64</td>\n",
       "      <td>163198</td>\n",
       "      <td>166278</td>\n",
       "      <td>47429</td>\n",
       "    </tr>\n",
       "    <tr>\n",
       "      <th>9</th>\n",
       "      <td>2010</td>\n",
       "      <td>257</td>\n",
       "      <td>160044</td>\n",
       "      <td>162044</td>\n",
       "      <td>46653</td>\n",
       "    </tr>\n",
       "    <tr>\n",
       "      <th>10</th>\n",
       "      <td>2011</td>\n",
       "      <td>95</td>\n",
       "      <td>164147</td>\n",
       "      <td>161226</td>\n",
       "      <td>47458</td>\n",
       "    </tr>\n",
       "    <tr>\n",
       "      <th>11</th>\n",
       "      <td>2012</td>\n",
       "      <td>106</td>\n",
       "      <td>162694</td>\n",
       "      <td>169471</td>\n",
       "      <td>52864</td>\n",
       "    </tr>\n",
       "    <tr>\n",
       "      <th>12</th>\n",
       "      <td>2013</td>\n",
       "      <td>33</td>\n",
       "      <td>173874</td>\n",
       "      <td>184286</td>\n",
       "      <td>53799</td>\n",
       "    </tr>\n",
       "  </tbody>\n",
       "</table>\n",
       "</div>"
      ],
      "text/plain": [
       "    year  age_16_18  age_18_30  age_30_50  age_50_above\n",
       "0   2001       5752     139747     136789         31347\n",
       "1   2002       3877     147206     137181         34093\n",
       "2   2003       2152     141362     146791         36214\n",
       "3   2004       1055     141115     151803         37418\n",
       "4   2005       1370     154557     159720         42721\n",
       "5   2006        663     154864     171517         46227\n",
       "6   2007        495     162729     170874         42298\n",
       "7   2008        174     160080     177359         47140\n",
       "8   2009         64     163198     166278         47429\n",
       "9   2010        257     160044     162044         46653\n",
       "10  2011         95     164147     161226         47458\n",
       "11  2012        106     162694     169471         52864\n",
       "12  2013         33     173874     184286         53799"
      ]
     },
     "execution_count": 50,
     "metadata": {},
     "output_type": "execute_result"
    }
   ],
   "source": [
    "# Creating table sorted by years and counting number of prisoners\n",
    "prison_age = prison.groupby([\"year\"]).agg({'age_16_18':'sum', 'age_18_30':'sum', 'age_30_50':'sum', 'age_50_above':'sum'}).reset_index()\n",
    "# Transforming floats to integers\n",
    "prison_age = prison_age.round(0)\n",
    "prison_age = prison_age.astype('int32')\n",
    "prison_age"
   ]
  },
  {
   "cell_type": "code",
   "execution_count": 51,
   "metadata": {},
   "outputs": [
    {
     "data": {
      "text/plain": [
       "<matplotlib.legend.Legend at 0x7fcb164cfcf8>"
      ]
     },
     "execution_count": 51,
     "metadata": {},
     "output_type": "execute_result"
    },
    {
     "data": {
      "image/png": "[encoded data removed]",
      "text/plain": [
       "<Figure size 432x288 with 1 Axes>"
      ]
     },
     "metadata": {
      "needs_background": "light"
     },
     "output_type": "display_data"
    }
   ],
   "source": [
    "# Visualization of data\n",
    "prison_count = prison_age[['year', 'age_16_18', 'age_18_30', 'age_30_50', 'age_50_above']]\n",
    "prison_count.plot.bar('year')\n",
    "\n",
    "plt.ylabel('Nnmber of Crimes')\n",
    "plt.legend(loc ='center left', bbox_to_anchor = (1, 0.5))"
   ]
  },
  {
   "cell_type": "code",
   "execution_count": 59,
   "metadata": {},
   "outputs": [
    {
     "data": {
      "text/html": [
       "<div>\n",
       "<style scoped>\n",
       "    .dataframe tbody tr th:only-of-type {\n",
       "        vertical-align: middle;\n",
       "    }\n",
       "\n",
       "    .dataframe tbody tr th {\n",
       "        vertical-align: top;\n",
       "    }\n",
       "\n",
       "    .dataframe thead th {\n",
       "        text-align: right;\n",
       "    }\n",
       "</style>\n",
       "<table border=\"1\" class=\"dataframe\">\n",
       "  <thead>\n",
       "    <tr style=\"text-align: right;\">\n",
       "      <th></th>\n",
       "      <th>gender</th>\n",
       "      <th>age_16_18</th>\n",
       "      <th>age_18_30</th>\n",
       "      <th>age_30_50</th>\n",
       "      <th>age_50_above</th>\n",
       "    </tr>\n",
       "  </thead>\n",
       "  <tbody>\n",
       "    <tr>\n",
       "      <th>0</th>\n",
       "      <td>Female</td>\n",
       "      <td>293.0</td>\n",
       "      <td>65172</td>\n",
       "      <td>96113</td>\n",
       "      <td>28892</td>\n",
       "    </tr>\n",
       "    <tr>\n",
       "      <th>1</th>\n",
       "      <td>Male</td>\n",
       "      <td>15800.0</td>\n",
       "      <td>1960445</td>\n",
       "      <td>1999226</td>\n",
       "      <td>536769</td>\n",
       "    </tr>\n",
       "  </tbody>\n",
       "</table>\n",
       "</div>"
      ],
      "text/plain": [
       "   gender  age_16_18  age_18_30  age_30_50  age_50_above\n",
       "0  Female      293.0      65172      96113         28892\n",
       "1    Male    15800.0    1960445    1999226        536769"
      ]
     },
     "execution_count": 59,
     "metadata": {},
     "output_type": "execute_result"
    }
   ],
   "source": [
    "# Checking out the number of males and females in prison\n",
    "prison_age2 = prison.groupby([\"gender\"]).agg({'age_16_18':'sum', 'age_18_30':'sum', 'age_30_50':'sum', 'age_50_above':'sum'}).reset_index()\n",
    "prison_age2"
   ]
  },
  {
   "cell_type": "code",
   "execution_count": 63,
   "metadata": {},
   "outputs": [
    {
     "data": {
      "text/html": [
       "<div>\n",
       "<style scoped>\n",
       "    .dataframe tbody tr th:only-of-type {\n",
       "        vertical-align: middle;\n",
       "    }\n",
       "\n",
       "    .dataframe tbody tr th {\n",
       "        vertical-align: top;\n",
       "    }\n",
       "\n",
       "    .dataframe thead th {\n",
       "        text-align: right;\n",
       "    }\n",
       "</style>\n",
       "<table border=\"1\" class=\"dataframe\">\n",
       "  <thead>\n",
       "    <tr style=\"text-align: right;\">\n",
       "      <th></th>\n",
       "      <th>Gender</th>\n",
       "      <th>Number_of_crimes</th>\n",
       "    </tr>\n",
       "  </thead>\n",
       "  <tbody>\n",
       "    <tr>\n",
       "      <th>0</th>\n",
       "      <td>Female</td>\n",
       "      <td>190470.0</td>\n",
       "    </tr>\n",
       "    <tr>\n",
       "      <th>1</th>\n",
       "      <td>Male</td>\n",
       "      <td>4512240.0</td>\n",
       "    </tr>\n",
       "  </tbody>\n",
       "</table>\n",
       "</div>"
      ],
      "text/plain": [
       "   Gender  Number_of_crimes\n",
       "0  Female          190470.0\n",
       "1    Male         4512240.0"
      ]
     },
     "execution_count": 63,
     "metadata": {},
     "output_type": "execute_result"
    }
   ],
   "source": [
    "# Counting % of prisoners by gender \n",
    "prison_gender = prison_age2[['age_16_18', 'age_18_30', 'age_30_50', 'age_50_above']]\n",
    "gender_age = pd.DataFrame(prison_gender.sum(axis = 1)).reset_index()\n",
    "gender_age = gender_age.rename(columns = {'index':'Gender', 0:'Number_of_crimes'}).sort_values(by = 'Number_of_crimes', ascending = True)\n",
    "gender_age['Gender'] = prison_age2['gender']\n",
    "gender_age"
   ]
  },
  {
   "cell_type": "code",
   "execution_count": 53,
   "metadata": {},
   "outputs": [
    {
     "data": {
      "image/png": "[encoded data removed]",
      "text/plain": [
       "<Figure size 432x288 with 1 Axes>"
      ]
     },
     "metadata": {},
     "output_type": "display_data"
    }
   ],
   "source": [
    "# and visualizating\n",
    "labels = ['Male', 'Female']\n",
    "sizes = [4512240, 190470]\n",
    "explode = (0, 0)\n",
    "plt.pie(sizes, explode=explode, labels=labels, autopct='%1.1f%%', shadow=True, startangle=90)\n",
    "plt.axis('equal')\n",
    "plt.show()"
   ]
  },
  {
   "cell_type": "code",
   "execution_count": 30,
   "metadata": {},
   "outputs": [
    {
     "data": {
      "text/html": [
       "<div>\n",
       "<style scoped>\n",
       "    .dataframe tbody tr th:only-of-type {\n",
       "        vertical-align: middle;\n",
       "    }\n",
       "\n",
       "    .dataframe tbody tr th {\n",
       "        vertical-align: top;\n",
       "    }\n",
       "\n",
       "    .dataframe thead th {\n",
       "        text-align: right;\n",
       "    }\n",
       "</style>\n",
       "<table border=\"1\" class=\"dataframe\">\n",
       "  <thead>\n",
       "    <tr style=\"text-align: right;\">\n",
       "      <th></th>\n",
       "      <th>STATE/UT</th>\n",
       "      <th>DISTRICT</th>\n",
       "      <th>Year</th>\n",
       "      <th>Murder</th>\n",
       "      <th>Assault on women</th>\n",
       "      <th>Kidnapping and Abduction</th>\n",
       "      <th>Dacoity</th>\n",
       "      <th>Robbery</th>\n",
       "      <th>Arson</th>\n",
       "      <th>Hurt</th>\n",
       "      <th>Prevention of atrocities (POA) Act</th>\n",
       "      <th>Protection of Civil Rights (PCR) Act</th>\n",
       "      <th>Other Crimes Against SCs</th>\n",
       "    </tr>\n",
       "  </thead>\n",
       "  <tbody>\n",
       "    <tr>\n",
       "      <th>0</th>\n",
       "      <td>ANDHRA PRADESH</td>\n",
       "      <td>ADILABAD</td>\n",
       "      <td>2001</td>\n",
       "      <td>0</td>\n",
       "      <td>1</td>\n",
       "      <td>4</td>\n",
       "      <td>0</td>\n",
       "      <td>0</td>\n",
       "      <td>0</td>\n",
       "      <td>3</td>\n",
       "      <td>0</td>\n",
       "      <td>15</td>\n",
       "      <td>32</td>\n",
       "    </tr>\n",
       "    <tr>\n",
       "      <th>1</th>\n",
       "      <td>ANDHRA PRADESH</td>\n",
       "      <td>ANANTAPUR</td>\n",
       "      <td>2001</td>\n",
       "      <td>0</td>\n",
       "      <td>4</td>\n",
       "      <td>0</td>\n",
       "      <td>0</td>\n",
       "      <td>0</td>\n",
       "      <td>0</td>\n",
       "      <td>49</td>\n",
       "      <td>21</td>\n",
       "      <td>0</td>\n",
       "      <td>53</td>\n",
       "    </tr>\n",
       "  </tbody>\n",
       "</table>\n",
       "</div>"
      ],
      "text/plain": [
       "         STATE/UT   DISTRICT  Year  Murder  Assault on women  \\\n",
       "0  ANDHRA PRADESH   ADILABAD  2001       0                 1   \n",
       "1  ANDHRA PRADESH  ANANTAPUR  2001       0                 4   \n",
       "\n",
       "   Kidnapping and Abduction  Dacoity  Robbery  Arson  Hurt  \\\n",
       "0                         4        0        0      0     3   \n",
       "1                         0        0        0      0    49   \n",
       "\n",
       "   Prevention of atrocities (POA) Act  Protection of Civil Rights (PCR) Act  \\\n",
       "0                                   0                                    15   \n",
       "1                                  21                                     0   \n",
       "\n",
       "   Other Crimes Against SCs  \n",
       "0                        32  \n",
       "1                        53  "
      ]
     },
     "execution_count": 30,
     "metadata": {},
     "output_type": "execute_result"
    }
   ],
   "source": [
    "# Reading the table of crimes by year and by districts\n",
    "crime.head(2)"
   ]
  },
  {
   "cell_type": "code",
   "execution_count": 31,
   "metadata": {},
   "outputs": [
    {
     "data": {
      "text/html": [
       "<div>\n",
       "<style scoped>\n",
       "    .dataframe tbody tr th:only-of-type {\n",
       "        vertical-align: middle;\n",
       "    }\n",
       "\n",
       "    .dataframe tbody tr th {\n",
       "        vertical-align: top;\n",
       "    }\n",
       "\n",
       "    .dataframe thead th {\n",
       "        text-align: right;\n",
       "    }\n",
       "</style>\n",
       "<table border=\"1\" class=\"dataframe\">\n",
       "  <thead>\n",
       "    <tr style=\"text-align: right;\">\n",
       "      <th></th>\n",
       "      <th>Type_of_crime</th>\n",
       "      <th>Number_of_crimes</th>\n",
       "    </tr>\n",
       "  </thead>\n",
       "  <tbody>\n",
       "    <tr>\n",
       "      <th>6</th>\n",
       "      <td>Hurt</td>\n",
       "      <td>108112</td>\n",
       "    </tr>\n",
       "    <tr>\n",
       "      <th>1</th>\n",
       "      <td>Assault on women</td>\n",
       "      <td>35983</td>\n",
       "    </tr>\n",
       "    <tr>\n",
       "      <th>0</th>\n",
       "      <td>Murder</td>\n",
       "      <td>17152</td>\n",
       "    </tr>\n",
       "    <tr>\n",
       "      <th>2</th>\n",
       "      <td>Kidnapping and Abduction</td>\n",
       "      <td>10610</td>\n",
       "    </tr>\n",
       "    <tr>\n",
       "      <th>5</th>\n",
       "      <td>Arson</td>\n",
       "      <td>5812</td>\n",
       "    </tr>\n",
       "    <tr>\n",
       "      <th>4</th>\n",
       "      <td>Robbery</td>\n",
       "      <td>2030</td>\n",
       "    </tr>\n",
       "    <tr>\n",
       "      <th>3</th>\n",
       "      <td>Dacoity</td>\n",
       "      <td>880</td>\n",
       "    </tr>\n",
       "  </tbody>\n",
       "</table>\n",
       "</div>"
      ],
      "text/plain": [
       "              Type_of_crime  Number_of_crimes\n",
       "6                      Hurt            108112\n",
       "1          Assault on women             35983\n",
       "0                    Murder             17152\n",
       "2  Kidnapping and Abduction             10610\n",
       "5                     Arson              5812\n",
       "4                   Robbery              2030\n",
       "3                   Dacoity               880"
      ]
     },
     "execution_count": 31,
     "metadata": {},
     "output_type": "execute_result"
    }
   ],
   "source": [
    "# Now making table of types of crimes and their numbers\n",
    "crime_types = crime[['Murder', 'Assault on women', 'Kidnapping and Abduction', 'Dacoity', 'Robbery', 'Arson', 'Hurt']]\n",
    "crime2 = pd.DataFrame(crime_types.sum(axis = 0)).reset_index()\n",
    "crime2 = crime2.rename(columns = {'index':'Type_of_crime', 0:'Number_of_crimes'}).sort_values(by = 'Number_of_crimes', ascending = False)\n",
    "crime2"
   ]
  },
  {
   "cell_type": "code",
   "execution_count": 32,
   "metadata": {},
   "outputs": [
    {
     "data": {
      "text/html": [
       "<div>\n",
       "<style scoped>\n",
       "    .dataframe tbody tr th:only-of-type {\n",
       "        vertical-align: middle;\n",
       "    }\n",
       "\n",
       "    .dataframe tbody tr th {\n",
       "        vertical-align: top;\n",
       "    }\n",
       "\n",
       "    .dataframe thead th {\n",
       "        text-align: right;\n",
       "    }\n",
       "</style>\n",
       "<table border=\"1\" class=\"dataframe\">\n",
       "  <thead>\n",
       "    <tr style=\"text-align: right;\">\n",
       "      <th></th>\n",
       "      <th>STATE/UT</th>\n",
       "      <th>Number_of_crimes</th>\n",
       "    </tr>\n",
       "  </thead>\n",
       "  <tbody>\n",
       "    <tr>\n",
       "      <th>38</th>\n",
       "      <td>MADHYA PRADESH</td>\n",
       "      <td>52</td>\n",
       "    </tr>\n",
       "    <tr>\n",
       "      <th>43</th>\n",
       "      <td>Madhya Pradesh</td>\n",
       "      <td>51</td>\n",
       "    </tr>\n",
       "    <tr>\n",
       "      <th>2</th>\n",
       "      <td>ANDHRA PRADESH</td>\n",
       "      <td>50</td>\n",
       "    </tr>\n",
       "    <tr>\n",
       "      <th>5</th>\n",
       "      <td>Andhra Pradesh</td>\n",
       "      <td>50</td>\n",
       "    </tr>\n",
       "    <tr>\n",
       "      <th>57</th>\n",
       "      <td>Rajasthan</td>\n",
       "      <td>47</td>\n",
       "    </tr>\n",
       "  </tbody>\n",
       "</table>\n",
       "</div>"
      ],
      "text/plain": [
       "          STATE/UT  Number_of_crimes\n",
       "38  MADHYA PRADESH                52\n",
       "43  Madhya Pradesh                51\n",
       "2   ANDHRA PRADESH                50\n",
       "5   Andhra Pradesh                50\n",
       "57       Rajasthan                47"
      ]
     },
     "execution_count": 32,
     "metadata": {},
     "output_type": "execute_result"
    }
   ],
   "source": [
    "# Trying to find out the number of crimes by regions\n",
    "crime_regions = crime.groupby([\"STATE/UT\"]).agg({'Murder':'mean', 'Assault on women':'mean', 'Kidnapping and Abduction':'mean', \n",
    "                                           'Dacoity':'mean', 'Robbery':'mean', 'Arson':'mean', 'Hurt':'mean'}).reset_index()\n",
    "\n",
    "crime_sum = pd.DataFrame(crime_regions['STATE/UT'])\n",
    "crime_sum['Number_of_crimes'] = crime_regions.sum(axis = 1).round(0).astype('int32')\n",
    "crime_reg = crime_sum.sort_values(by = 'Number_of_crimes', ascending = False)\n",
    "crime_reg.head()"
   ]
  },
  {
   "cell_type": "code",
   "execution_count": 33,
   "metadata": {},
   "outputs": [
    {
     "data": {
      "text/html": [
       "<div>\n",
       "<style scoped>\n",
       "    .dataframe tbody tr th:only-of-type {\n",
       "        vertical-align: middle;\n",
       "    }\n",
       "\n",
       "    .dataframe tbody tr th {\n",
       "        vertical-align: top;\n",
       "    }\n",
       "\n",
       "    .dataframe thead th {\n",
       "        text-align: right;\n",
       "    }\n",
       "</style>\n",
       "<table border=\"1\" class=\"dataframe\">\n",
       "  <thead>\n",
       "    <tr style=\"text-align: right;\">\n",
       "      <th></th>\n",
       "      <th>Region</th>\n",
       "      <th>Number_of_crimes</th>\n",
       "    </tr>\n",
       "  </thead>\n",
       "  <tbody>\n",
       "    <tr>\n",
       "      <th>0</th>\n",
       "      <td>Madhya Pradesh</td>\n",
       "      <td>103</td>\n",
       "    </tr>\n",
       "    <tr>\n",
       "      <th>1</th>\n",
       "      <td>Andhra Pradesh</td>\n",
       "      <td>100</td>\n",
       "    </tr>\n",
       "    <tr>\n",
       "      <th>2</th>\n",
       "      <td>Rajasthan</td>\n",
       "      <td>88</td>\n",
       "    </tr>\n",
       "    <tr>\n",
       "      <th>5</th>\n",
       "      <td>Uttar Pradesh</td>\n",
       "      <td>68</td>\n",
       "    </tr>\n",
       "    <tr>\n",
       "      <th>3</th>\n",
       "      <td>Odisha</td>\n",
       "      <td>64</td>\n",
       "    </tr>\n",
       "    <tr>\n",
       "      <th>4</th>\n",
       "      <td>Kerala</td>\n",
       "      <td>63</td>\n",
       "    </tr>\n",
       "  </tbody>\n",
       "</table>\n",
       "</div>"
      ],
      "text/plain": [
       "           Region  Number_of_crimes\n",
       "0  Madhya Pradesh               103\n",
       "1  Andhra Pradesh               100\n",
       "2       Rajasthan                88\n",
       "5   Uttar Pradesh                68\n",
       "3          Odisha                64\n",
       "4          Kerala                63"
      ]
     },
     "execution_count": 33,
     "metadata": {},
     "output_type": "execute_result"
    }
   ],
   "source": [
    "# Since there are the same regions but with different names lets create a small DataFrame by hands \n",
    "# just to visualyze Top criminal regions\n",
    "data = {'Region':['Madhya Pradesh', 'Andhra Pradesh', 'Rajasthan', 'Odisha', 'Kerala', 'Uttar Pradesh'],\n",
    "       'Number_of_crimes':[51 + 52, 50 + 50, 47 + 41, 44 + 20, 38 + 25, 35 + 33]}\n",
    "regions_crime = pd.DataFrame(data)\n",
    "regions_crime = regions_crime.sort_values(by = 'Number_of_crimes', ascending = False)\n",
    "regions_crime"
   ]
  },
  {
   "cell_type": "code",
   "execution_count": 34,
   "metadata": {},
   "outputs": [
    {
     "data": {
      "text/plain": [
       "<matplotlib.axes._subplots.AxesSubplot at 0x7fcb17db1978>"
      ]
     },
     "execution_count": 34,
     "metadata": {},
     "output_type": "execute_result"
    },
    {
     "data": {
      "image/png": "[encoded data removed]",
      "text/plain": [
       "<Figure size 432x288 with 1 Axes>"
      ]
     },
     "metadata": {
      "needs_background": "light"
     },
     "output_type": "display_data"
    }
   ],
   "source": [
    "# Number of crimes by regions\n",
    "sns.barplot(x=\"Number_of_crimes\", y=\"Region\", data = regions_crime)"
   ]
  },
  {
   "cell_type": "code",
   "execution_count": 35,
   "metadata": {},
   "outputs": [
    {
     "data": {
      "text/plain": [
       "<matplotlib.axes._subplots.AxesSubplot at 0x7fcb17d3d630>"
      ]
     },
     "execution_count": 35,
     "metadata": {},
     "output_type": "execute_result"
    },
    {
     "data": {
      "image/png": "[encoded data removed]",
      "text/plain": [
       "<Figure size 432x288 with 1 Axes>"
      ]
     },
     "metadata": {
      "needs_background": "light"
     },
     "output_type": "display_data"
    }
   ],
   "source": [
    "# Number of crimes by types of crimes\n",
    "sns.barplot(y = 'Type_of_crime', x = 'Number_of_crimes', data = crime2)"
   ]
  },
  {
   "cell_type": "code",
   "execution_count": 36,
   "metadata": {},
   "outputs": [
    {
     "data": {
      "text/html": [
       "<div>\n",
       "<style scoped>\n",
       "    .dataframe tbody tr th:only-of-type {\n",
       "        vertical-align: middle;\n",
       "    }\n",
       "\n",
       "    .dataframe tbody tr th {\n",
       "        vertical-align: top;\n",
       "    }\n",
       "\n",
       "    .dataframe thead th {\n",
       "        text-align: right;\n",
       "    }\n",
       "</style>\n",
       "<table border=\"1\" class=\"dataframe\">\n",
       "  <thead>\n",
       "    <tr style=\"text-align: right;\">\n",
       "      <th></th>\n",
       "      <th>STATE/UT</th>\n",
       "      <th>DISTRICT</th>\n",
       "      <th>Year</th>\n",
       "      <th>Murder</th>\n",
       "      <th>Assault on women</th>\n",
       "      <th>Kidnapping and Abduction</th>\n",
       "      <th>Dacoity</th>\n",
       "      <th>Robbery</th>\n",
       "      <th>Arson</th>\n",
       "      <th>Hurt</th>\n",
       "      <th>Prevention of atrocities (POA) Act</th>\n",
       "      <th>Protection of Civil Rights (PCR) Act</th>\n",
       "      <th>Other Crimes Against SCs</th>\n",
       "    </tr>\n",
       "  </thead>\n",
       "  <tbody>\n",
       "    <tr>\n",
       "      <th>0</th>\n",
       "      <td>ANDHRA PRADESH</td>\n",
       "      <td>ADILABAD</td>\n",
       "      <td>2001</td>\n",
       "      <td>0</td>\n",
       "      <td>1</td>\n",
       "      <td>4</td>\n",
       "      <td>0</td>\n",
       "      <td>0</td>\n",
       "      <td>0</td>\n",
       "      <td>3</td>\n",
       "      <td>0</td>\n",
       "      <td>15</td>\n",
       "      <td>32</td>\n",
       "    </tr>\n",
       "    <tr>\n",
       "      <th>1</th>\n",
       "      <td>ANDHRA PRADESH</td>\n",
       "      <td>ANANTAPUR</td>\n",
       "      <td>2001</td>\n",
       "      <td>0</td>\n",
       "      <td>4</td>\n",
       "      <td>0</td>\n",
       "      <td>0</td>\n",
       "      <td>0</td>\n",
       "      <td>0</td>\n",
       "      <td>49</td>\n",
       "      <td>21</td>\n",
       "      <td>0</td>\n",
       "      <td>53</td>\n",
       "    </tr>\n",
       "  </tbody>\n",
       "</table>\n",
       "</div>"
      ],
      "text/plain": [
       "         STATE/UT   DISTRICT  Year  Murder  Assault on women  \\\n",
       "0  ANDHRA PRADESH   ADILABAD  2001       0                 1   \n",
       "1  ANDHRA PRADESH  ANANTAPUR  2001       0                 4   \n",
       "\n",
       "   Kidnapping and Abduction  Dacoity  Robbery  Arson  Hurt  \\\n",
       "0                         4        0        0      0     3   \n",
       "1                         0        0        0      0    49   \n",
       "\n",
       "   Prevention of atrocities (POA) Act  Protection of Civil Rights (PCR) Act  \\\n",
       "0                                   0                                    15   \n",
       "1                                  21                                     0   \n",
       "\n",
       "   Other Crimes Against SCs  \n",
       "0                        32  \n",
       "1                        53  "
      ]
     },
     "execution_count": 36,
     "metadata": {},
     "output_type": "execute_result"
    }
   ],
   "source": [
    "# reading a new table\n",
    "crime.head(2)"
   ]
  },
  {
   "cell_type": "code",
   "execution_count": 37,
   "metadata": {},
   "outputs": [
    {
     "data": {
      "text/plain": [
       "(9841, 13)"
      ]
     },
     "execution_count": 37,
     "metadata": {},
     "output_type": "execute_result"
    }
   ],
   "source": [
    "# discovering the amount of information\n",
    "crime.shape"
   ]
  },
  {
   "cell_type": "code",
   "execution_count": 38,
   "metadata": {},
   "outputs": [
    {
     "data": {
      "text/html": [
       "<div>\n",
       "<style scoped>\n",
       "    .dataframe tbody tr th:only-of-type {\n",
       "        vertical-align: middle;\n",
       "    }\n",
       "\n",
       "    .dataframe tbody tr th {\n",
       "        vertical-align: top;\n",
       "    }\n",
       "\n",
       "    .dataframe thead th {\n",
       "        text-align: right;\n",
       "    }\n",
       "</style>\n",
       "<table border=\"1\" class=\"dataframe\">\n",
       "  <thead>\n",
       "    <tr style=\"text-align: right;\">\n",
       "      <th></th>\n",
       "      <th>Year</th>\n",
       "      <th>Murder</th>\n",
       "      <th>Assault on women</th>\n",
       "      <th>Kidnapping and Abduction</th>\n",
       "      <th>Dacoity</th>\n",
       "      <th>Robbery</th>\n",
       "      <th>Arson</th>\n",
       "      <th>Hurt</th>\n",
       "    </tr>\n",
       "  </thead>\n",
       "  <tbody>\n",
       "    <tr>\n",
       "      <th>0</th>\n",
       "      <td>2001</td>\n",
       "      <td>1526</td>\n",
       "      <td>2632</td>\n",
       "      <td>800</td>\n",
       "      <td>82</td>\n",
       "      <td>266</td>\n",
       "      <td>708</td>\n",
       "      <td>9094</td>\n",
       "    </tr>\n",
       "    <tr>\n",
       "      <th>1</th>\n",
       "      <td>2002</td>\n",
       "      <td>1478</td>\n",
       "      <td>2664</td>\n",
       "      <td>636</td>\n",
       "      <td>58</td>\n",
       "      <td>210</td>\n",
       "      <td>644</td>\n",
       "      <td>8982</td>\n",
       "    </tr>\n",
       "    <tr>\n",
       "      <th>2</th>\n",
       "      <td>2003</td>\n",
       "      <td>1162</td>\n",
       "      <td>2178</td>\n",
       "      <td>464</td>\n",
       "      <td>48</td>\n",
       "      <td>140</td>\n",
       "      <td>408</td>\n",
       "      <td>7938</td>\n",
       "    </tr>\n",
       "    <tr>\n",
       "      <th>3</th>\n",
       "      <td>2004</td>\n",
       "      <td>1308</td>\n",
       "      <td>2314</td>\n",
       "      <td>506</td>\n",
       "      <td>52</td>\n",
       "      <td>144</td>\n",
       "      <td>422</td>\n",
       "      <td>7648</td>\n",
       "    </tr>\n",
       "    <tr>\n",
       "      <th>4</th>\n",
       "      <td>2005</td>\n",
       "      <td>1338</td>\n",
       "      <td>2344</td>\n",
       "      <td>516</td>\n",
       "      <td>52</td>\n",
       "      <td>160</td>\n",
       "      <td>420</td>\n",
       "      <td>7694</td>\n",
       "    </tr>\n",
       "    <tr>\n",
       "      <th>5</th>\n",
       "      <td>2006</td>\n",
       "      <td>1346</td>\n",
       "      <td>2435</td>\n",
       "      <td>560</td>\n",
       "      <td>60</td>\n",
       "      <td>180</td>\n",
       "      <td>452</td>\n",
       "      <td>7522</td>\n",
       "    </tr>\n",
       "    <tr>\n",
       "      <th>6</th>\n",
       "      <td>2007</td>\n",
       "      <td>1348</td>\n",
       "      <td>2698</td>\n",
       "      <td>664</td>\n",
       "      <td>46</td>\n",
       "      <td>172</td>\n",
       "      <td>476</td>\n",
       "      <td>7628</td>\n",
       "    </tr>\n",
       "    <tr>\n",
       "      <th>7</th>\n",
       "      <td>2008</td>\n",
       "      <td>1244</td>\n",
       "      <td>2906</td>\n",
       "      <td>954</td>\n",
       "      <td>100</td>\n",
       "      <td>162</td>\n",
       "      <td>448</td>\n",
       "      <td>8268</td>\n",
       "    </tr>\n",
       "    <tr>\n",
       "      <th>8</th>\n",
       "      <td>2009</td>\n",
       "      <td>1258</td>\n",
       "      <td>2700</td>\n",
       "      <td>1022</td>\n",
       "      <td>84</td>\n",
       "      <td>134</td>\n",
       "      <td>390</td>\n",
       "      <td>8644</td>\n",
       "    </tr>\n",
       "    <tr>\n",
       "      <th>9</th>\n",
       "      <td>2010</td>\n",
       "      <td>1144</td>\n",
       "      <td>2700</td>\n",
       "      <td>1020</td>\n",
       "      <td>82</td>\n",
       "      <td>150</td>\n",
       "      <td>300</td>\n",
       "      <td>8688</td>\n",
       "    </tr>\n",
       "    <tr>\n",
       "      <th>10</th>\n",
       "      <td>2011</td>\n",
       "      <td>1346</td>\n",
       "      <td>3114</td>\n",
       "      <td>1232</td>\n",
       "      <td>72</td>\n",
       "      <td>108</td>\n",
       "      <td>338</td>\n",
       "      <td>8494</td>\n",
       "    </tr>\n",
       "    <tr>\n",
       "      <th>11</th>\n",
       "      <td>2012</td>\n",
       "      <td>1302</td>\n",
       "      <td>3152</td>\n",
       "      <td>980</td>\n",
       "      <td>54</td>\n",
       "      <td>80</td>\n",
       "      <td>428</td>\n",
       "      <td>7710</td>\n",
       "    </tr>\n",
       "    <tr>\n",
       "      <th>12</th>\n",
       "      <td>2013</td>\n",
       "      <td>1352</td>\n",
       "      <td>4146</td>\n",
       "      <td>1256</td>\n",
       "      <td>90</td>\n",
       "      <td>124</td>\n",
       "      <td>378</td>\n",
       "      <td>9802</td>\n",
       "    </tr>\n",
       "  </tbody>\n",
       "</table>\n",
       "</div>"
      ],
      "text/plain": [
       "    Year  Murder  Assault on women  Kidnapping and Abduction  Dacoity  \\\n",
       "0   2001    1526              2632                       800       82   \n",
       "1   2002    1478              2664                       636       58   \n",
       "2   2003    1162              2178                       464       48   \n",
       "3   2004    1308              2314                       506       52   \n",
       "4   2005    1338              2344                       516       52   \n",
       "5   2006    1346              2435                       560       60   \n",
       "6   2007    1348              2698                       664       46   \n",
       "7   2008    1244              2906                       954      100   \n",
       "8   2009    1258              2700                      1022       84   \n",
       "9   2010    1144              2700                      1020       82   \n",
       "10  2011    1346              3114                      1232       72   \n",
       "11  2012    1302              3152                       980       54   \n",
       "12  2013    1352              4146                      1256       90   \n",
       "\n",
       "    Robbery  Arson  Hurt  \n",
       "0       266    708  9094  \n",
       "1       210    644  8982  \n",
       "2       140    408  7938  \n",
       "3       144    422  7648  \n",
       "4       160    420  7694  \n",
       "5       180    452  7522  \n",
       "6       172    476  7628  \n",
       "7       162    448  8268  \n",
       "8       134    390  8644  \n",
       "9       150    300  8688  \n",
       "10      108    338  8494  \n",
       "11       80    428  7710  \n",
       "12      124    378  9802  "
      ]
     },
     "execution_count": 38,
     "metadata": {},
     "output_type": "execute_result"
    }
   ],
   "source": [
    "# Aggregating and grouping rows to summerise the information\n",
    "crime_years = crime.groupby([\"Year\"]).agg({'Murder':'sum', 'Assault on women':'sum', 'Kidnapping and Abduction':'sum', \n",
    "                                           'Dacoity':'sum', 'Robbery':'sum', 'Arson':'sum', 'Hurt':'sum'}).reset_index()\n",
    "\n",
    "crime_years"
   ]
  },
  {
   "cell_type": "code",
   "execution_count": 39,
   "metadata": {},
   "outputs": [
    {
     "data": {
      "text/html": [
       "<div>\n",
       "<style scoped>\n",
       "    .dataframe tbody tr th:only-of-type {\n",
       "        vertical-align: middle;\n",
       "    }\n",
       "\n",
       "    .dataframe tbody tr th {\n",
       "        vertical-align: top;\n",
       "    }\n",
       "\n",
       "    .dataframe thead th {\n",
       "        text-align: right;\n",
       "    }\n",
       "</style>\n",
       "<table border=\"1\" class=\"dataframe\">\n",
       "  <thead>\n",
       "    <tr style=\"text-align: right;\">\n",
       "      <th></th>\n",
       "      <th>Year</th>\n",
       "      <th>Murder</th>\n",
       "      <th>Assault on women</th>\n",
       "      <th>Kidnapping and Abduction</th>\n",
       "      <th>Dacoity</th>\n",
       "      <th>Robbery</th>\n",
       "      <th>Arson</th>\n",
       "      <th>Hurt</th>\n",
       "    </tr>\n",
       "  </thead>\n",
       "  <tbody>\n",
       "    <tr>\n",
       "      <th>0</th>\n",
       "      <td>2001</td>\n",
       "      <td>1526</td>\n",
       "      <td>2632</td>\n",
       "      <td>800</td>\n",
       "      <td>82</td>\n",
       "      <td>266</td>\n",
       "      <td>708</td>\n",
       "      <td>9094</td>\n",
       "    </tr>\n",
       "    <tr>\n",
       "      <th>1</th>\n",
       "      <td>2002</td>\n",
       "      <td>1478</td>\n",
       "      <td>2664</td>\n",
       "      <td>636</td>\n",
       "      <td>58</td>\n",
       "      <td>210</td>\n",
       "      <td>644</td>\n",
       "      <td>8982</td>\n",
       "    </tr>\n",
       "    <tr>\n",
       "      <th>2</th>\n",
       "      <td>2003</td>\n",
       "      <td>1162</td>\n",
       "      <td>2178</td>\n",
       "      <td>464</td>\n",
       "      <td>48</td>\n",
       "      <td>140</td>\n",
       "      <td>408</td>\n",
       "      <td>7938</td>\n",
       "    </tr>\n",
       "    <tr>\n",
       "      <th>3</th>\n",
       "      <td>2004</td>\n",
       "      <td>1308</td>\n",
       "      <td>2314</td>\n",
       "      <td>506</td>\n",
       "      <td>52</td>\n",
       "      <td>144</td>\n",
       "      <td>422</td>\n",
       "      <td>7648</td>\n",
       "    </tr>\n",
       "    <tr>\n",
       "      <th>4</th>\n",
       "      <td>2005</td>\n",
       "      <td>1338</td>\n",
       "      <td>2344</td>\n",
       "      <td>516</td>\n",
       "      <td>52</td>\n",
       "      <td>160</td>\n",
       "      <td>420</td>\n",
       "      <td>7694</td>\n",
       "    </tr>\n",
       "    <tr>\n",
       "      <th>5</th>\n",
       "      <td>2006</td>\n",
       "      <td>1346</td>\n",
       "      <td>2435</td>\n",
       "      <td>560</td>\n",
       "      <td>60</td>\n",
       "      <td>180</td>\n",
       "      <td>452</td>\n",
       "      <td>7522</td>\n",
       "    </tr>\n",
       "    <tr>\n",
       "      <th>6</th>\n",
       "      <td>2007</td>\n",
       "      <td>1348</td>\n",
       "      <td>2698</td>\n",
       "      <td>664</td>\n",
       "      <td>46</td>\n",
       "      <td>172</td>\n",
       "      <td>476</td>\n",
       "      <td>7628</td>\n",
       "    </tr>\n",
       "    <tr>\n",
       "      <th>7</th>\n",
       "      <td>2008</td>\n",
       "      <td>1244</td>\n",
       "      <td>2906</td>\n",
       "      <td>954</td>\n",
       "      <td>100</td>\n",
       "      <td>162</td>\n",
       "      <td>448</td>\n",
       "      <td>8268</td>\n",
       "    </tr>\n",
       "    <tr>\n",
       "      <th>8</th>\n",
       "      <td>2009</td>\n",
       "      <td>1258</td>\n",
       "      <td>2700</td>\n",
       "      <td>1022</td>\n",
       "      <td>84</td>\n",
       "      <td>134</td>\n",
       "      <td>390</td>\n",
       "      <td>8644</td>\n",
       "    </tr>\n",
       "    <tr>\n",
       "      <th>9</th>\n",
       "      <td>2010</td>\n",
       "      <td>1144</td>\n",
       "      <td>2700</td>\n",
       "      <td>1020</td>\n",
       "      <td>82</td>\n",
       "      <td>150</td>\n",
       "      <td>300</td>\n",
       "      <td>8688</td>\n",
       "    </tr>\n",
       "  </tbody>\n",
       "</table>\n",
       "</div>"
      ],
      "text/plain": [
       "   Year  Murder  Assault on women  Kidnapping and Abduction  Dacoity  Robbery  \\\n",
       "0  2001    1526              2632                       800       82      266   \n",
       "1  2002    1478              2664                       636       58      210   \n",
       "2  2003    1162              2178                       464       48      140   \n",
       "3  2004    1308              2314                       506       52      144   \n",
       "4  2005    1338              2344                       516       52      160   \n",
       "5  2006    1346              2435                       560       60      180   \n",
       "6  2007    1348              2698                       664       46      172   \n",
       "7  2008    1244              2906                       954      100      162   \n",
       "8  2009    1258              2700                      1022       84      134   \n",
       "9  2010    1144              2700                      1020       82      150   \n",
       "\n",
       "   Arson  Hurt  \n",
       "0    708  9094  \n",
       "1    644  8982  \n",
       "2    408  7938  \n",
       "3    422  7648  \n",
       "4    420  7694  \n",
       "5    452  7522  \n",
       "6    476  7628  \n",
       "7    448  8268  \n",
       "8    390  8644  \n",
       "9    300  8688  "
      ]
     },
     "execution_count": 39,
     "metadata": {},
     "output_type": "execute_result"
    }
   ],
   "source": [
    "# drop 2011-2013 to merge with property another dataframe by years\n",
    "crime_years2 = crime_years.drop([10, 11, 12])\n",
    "crime_years2"
   ]
  },
  {
   "cell_type": "code",
   "execution_count": 40,
   "metadata": {},
   "outputs": [
    {
     "data": {
      "text/html": [
       "<div>\n",
       "<style scoped>\n",
       "    .dataframe tbody tr th:only-of-type {\n",
       "        vertical-align: middle;\n",
       "    }\n",
       "\n",
       "    .dataframe tbody tr th {\n",
       "        vertical-align: top;\n",
       "    }\n",
       "\n",
       "    .dataframe thead th {\n",
       "        text-align: right;\n",
       "    }\n",
       "</style>\n",
       "<table border=\"1\" class=\"dataframe\">\n",
       "  <thead>\n",
       "    <tr style=\"text-align: right;\">\n",
       "      <th></th>\n",
       "      <th>Year</th>\n",
       "      <th>Num_of_crimes</th>\n",
       "      <th>Cases_Property_Stolen</th>\n",
       "    </tr>\n",
       "  </thead>\n",
       "  <tbody>\n",
       "    <tr>\n",
       "      <th>0</th>\n",
       "      <td>2001</td>\n",
       "      <td>15108</td>\n",
       "      <td>3228</td>\n",
       "    </tr>\n",
       "    <tr>\n",
       "      <th>1</th>\n",
       "      <td>2002</td>\n",
       "      <td>14672</td>\n",
       "      <td>3160</td>\n",
       "    </tr>\n",
       "    <tr>\n",
       "      <th>2</th>\n",
       "      <td>2003</td>\n",
       "      <td>12338</td>\n",
       "      <td>3084</td>\n",
       "    </tr>\n",
       "    <tr>\n",
       "      <th>3</th>\n",
       "      <td>2004</td>\n",
       "      <td>12394</td>\n",
       "      <td>3316</td>\n",
       "    </tr>\n",
       "    <tr>\n",
       "      <th>4</th>\n",
       "      <td>2005</td>\n",
       "      <td>12524</td>\n",
       "      <td>3264</td>\n",
       "    </tr>\n",
       "    <tr>\n",
       "      <th>5</th>\n",
       "      <td>2006</td>\n",
       "      <td>12555</td>\n",
       "      <td>3320</td>\n",
       "    </tr>\n",
       "    <tr>\n",
       "      <th>6</th>\n",
       "      <td>2007</td>\n",
       "      <td>13032</td>\n",
       "      <td>3513</td>\n",
       "    </tr>\n",
       "    <tr>\n",
       "      <th>7</th>\n",
       "      <td>2008</td>\n",
       "      <td>14082</td>\n",
       "      <td>3726</td>\n",
       "    </tr>\n",
       "    <tr>\n",
       "      <th>8</th>\n",
       "      <td>2009</td>\n",
       "      <td>14232</td>\n",
       "      <td>3722</td>\n",
       "    </tr>\n",
       "    <tr>\n",
       "      <th>9</th>\n",
       "      <td>2010</td>\n",
       "      <td>14084</td>\n",
       "      <td>3862</td>\n",
       "    </tr>\n",
       "  </tbody>\n",
       "</table>\n",
       "</div>"
      ],
      "text/plain": [
       "   Year  Num_of_crimes  Cases_Property_Stolen\n",
       "0  2001          15108                   3228\n",
       "1  2002          14672                   3160\n",
       "2  2003          12338                   3084\n",
       "3  2004          12394                   3316\n",
       "4  2005          12524                   3264\n",
       "5  2006          12555                   3320\n",
       "6  2007          13032                   3513\n",
       "7  2008          14082                   3726\n",
       "8  2009          14232                   3722\n",
       "9  2010          14084                   3862"
      ]
     },
     "execution_count": 40,
     "metadata": {},
     "output_type": "execute_result"
    }
   ],
   "source": [
    "# merging and setting in order the information\n",
    "crime_all = crime_years2.drop(['Year'], axis = 1)\n",
    "crime_sum = pd.DataFrame(crime_all.sum(axis = 1, skipna = True))\n",
    "crime_sum = crime_sum.rename(columns = {0:'Num_of_crimes'})\n",
    "crime_sum['Year'] = crime_years2['Year']\n",
    "crime_sum = crime_sum.merge(year_sort)\n",
    "crime_sum = crime_sum[['Year', 'Num_of_crimes', 'Cases_Property_Stolen']]\n",
    "crime_sum"
   ]
  },
  {
   "cell_type": "code",
   "execution_count": 41,
   "metadata": {},
   "outputs": [
    {
     "data": {
      "text/plain": [
       "Year                     int64\n",
       "Num_of_crimes            int64\n",
       "Cases_Property_Stolen    int32\n",
       "dtype: object"
      ]
     },
     "execution_count": 41,
     "metadata": {},
     "output_type": "execute_result"
    }
   ],
   "source": [
    "# discovering types of data\n",
    "crime_sum.dtypes"
   ]
  },
  {
   "cell_type": "code",
   "execution_count": 74,
   "metadata": {},
   "outputs": [
    {
     "data": {
      "image/png": "[encoded data removed]",
      "text/plain": [
       "<Figure size 432x288 with 1 Axes>"
      ]
     },
     "metadata": {},
     "output_type": "display_data"
    }
   ],
   "source": [
    "# Visualising information and preparing for the dark presentation slide\n",
    "with plt.style.context('dark_background'): #seaborn-white\n",
    "    plt.plot(crime_sum['Num_of_crimes'], color = 'red')\n",
    "    plt.plot(crime_sum['Cases_Property_Stolen'], color = 'yellow')\n",
    "    # Number of accent colors in the color scheme\n",
    "    plt.title('Correlation berween all crimes and house robbery')\n",
    "    plt.xlabel('Years')\n",
    "    plt.ylabel('Number of crimes')\n",
    "\n",
    "plt.show()"
   ]
  },
  {
   "cell_type": "code",
   "execution_count": 51,
   "metadata": {},
   "outputs": [
    {
     "data": {
      "text/plain": [
       "<seaborn.axisgrid.PairGrid at 0x7f54645f1198>"
      ]
     },
     "execution_count": 51,
     "metadata": {},
     "output_type": "execute_result"
    },
    {
     "data": {
      "image/png": "[encoded data removed]",
      "text/plain": [
       "<Figure size 540x540 with 12 Axes>"
      ]
     },
     "metadata": {
      "needs_background": "light"
     },
     "output_type": "display_data"
    }
   ],
   "source": [
    "# Trying to find some correlations\n",
    "sns.pairplot(crime_sum, kind=\"reg\")\n",
    "# there is a correlation between cases of property stolen and years. With time the number of cases is growing."
   ]
  },
  {
   "cell_type": "code",
   "execution_count": 47,
   "metadata": {},
   "outputs": [
    {
     "data": {
      "image/png": "[encoded data removed]",
      "text/plain": [
       "<Figure size 432x288 with 1 Axes>"
      ]
     },
     "metadata": {},
     "output_type": "display_data"
    }
   ],
   "source": [
    "# changing plot's view for another slide\n",
    "with plt.style.context('seaborn-white'): \n",
    "    plt.plot(crime_sum['Num_of_crimes'], color = 'red')\n",
    "\n",
    "    # Number of accent colors in the color scheme\n",
    "    plt.title('Number of crimes 2001-2010')\n",
    "    plt.xlabel('Years')\n",
    "    plt.ylabel('Number of crimes')\n",
    "\n",
    "plt.show()"
   ]
  },
  {
   "cell_type": "code",
   "execution_count": 48,
   "metadata": {},
   "outputs": [
    {
     "data": {
      "text/plain": [
       "<seaborn.axisgrid.PairGrid at 0x7fcb177f6978>"
      ]
     },
     "execution_count": 48,
     "metadata": {},
     "output_type": "execute_result"
    },
    {
     "data": {
      "image/png": "[encoded data removed]",
      "text/plain": [
       "<Figure size 900x900 with 30 Axes>"
      ]
     },
     "metadata": {
      "needs_background": "light"
     },
     "output_type": "display_data"
    }
   ],
   "source": [
    "# Trying to find some other correlations\n",
    "# correlation that I found was between the value of property stolen and the value of property recovered.\n",
    "sns.pairplot(prop, kind=\"reg\")"
   ]
  },
  {
   "cell_type": "code",
   "execution_count": null,
   "metadata": {},
   "outputs": [],
   "source": []
  },
  {
   "cell_type": "code",
   "execution_count": null,
   "metadata": {},
   "outputs": [],
   "source": []
  }
 ],
 "metadata": {
  "kernelspec": {
   "display_name": "Python 3",
   "language": "python",
   "name": "python3"
  },
  "language_info": {
   "codemirror_mode": {
    "name": "ipython",
    "version": 3
   },
   "file_extension": ".py",
   "mimetype": "text/x-python",
   "name": "python",
   "nbconvert_exporter": "python",
   "pygments_lexer": "ipython3",
   "version": "3.7.3"
  }
 },
 "nbformat": 4,
 "nbformat_minor": 2
}
